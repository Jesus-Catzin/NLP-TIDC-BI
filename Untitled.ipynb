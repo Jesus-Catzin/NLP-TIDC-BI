{
 "cells": [
  {
   "cell_type": "code",
   "execution_count": 4,
   "id": "subject-server",
   "metadata": {},
   "outputs": [],
   "source": [
    "import pandas as pd\n",
    "import tweepy\n",
    "import mysql.connector\n",
    "from Preprocessor import Preprocessor\n",
    "from mysql.connector import Error"
   ]
  },
  {
   "cell_type": "code",
   "execution_count": 5,
   "id": "upset-assurance",
   "metadata": {},
   "outputs": [],
   "source": [
    "def add_tweets_db():\n",
    "    mydb = mysql.connector.connect(\n",
    "        host=\"localhost\",\n",
    "        user=\"root\",\n",
    "        passwd=\"\",\n",
    "        database=\"databasecovid\"\n",
    "    )\n",
    "    if mydb.is_connected():\n",
    "        '''\n",
    "        Check if this table exits. If not, then create a new one.\n",
    "        '''\n",
    "        mycursor = mydb.cursor()\n",
    "        mycursor.execute(\"\"\"\n",
    "            SELECT COUNT(*)\n",
    "            FROM information_schema.tables\n",
    "            WHERE table_name = '{0}'\n",
    "            \"\"\".format(table_name))\n",
    "        if mycursor.fetchone()[0] != 1:\n",
    "            mycursor.execute(\"CREATE TABLE {} ({})\".format(table_name, attributes))\n",
    "            mydb.commit()\n",
    "        mycursor.close()\n",
    "        return mydb\n",
    "    else:\n",
    "        return mydb"
   ]
  },
  {
   "cell_type": "code",
   "execution_count": 6,
   "id": "figured-light",
   "metadata": {},
   "outputs": [],
   "source": [
    "search_words = ['Coronavirus','Covid19','covid','covid19','coronavirus','Covid-19','covid-19','Covid']\n",
    "\n",
    "table_name = 'tweetsCovid'\n",
    "\n",
    "attributes = \"created_at DATETIME, text VARCHAR(255), user_location VARCHAR(255), longitude DOUBLE, latitude DOUBLE\""
   ]
  },
  {
   "cell_type": "code",
   "execution_count": 16,
   "id": "foreign-allocation",
   "metadata": {},
   "outputs": [],
   "source": [
    "class MyStreamListener(tweepy.StreamListener): #Class for streaming\n",
    "    \n",
    "    def __init__(self, no_tweets=100):\n",
    "        super().__init__()\n",
    "        self.no_tweets = no_tweets\n",
    "    \n",
    "    def on_status(self, status): #Extract tweets text\n",
    "        preprocessor = Preprocessor()\n",
    "        if status.retweeted:\n",
    "            # Avoid retweeted info, and only original tweets will be received\n",
    "            return True\n",
    "        # Extract attributes from each tweet\n",
    "        created_at = status.created_at\n",
    "        text = status.text\n",
    "        text = preprocessor.cleaning(text)# Pre-processing the text\n",
    "        if text == '':\n",
    "            return True\n",
    "        user_location = preprocessor.clean_emojis(status.user.location)\n",
    "        if user_location == None:\n",
    "            return True\n",
    "        # senti = Model(text)\n",
    "        longitude = None\n",
    "        latitude = None\n",
    "        if status.coordinates:\n",
    "            longitude = status.coordinates['coordinates'][0]\n",
    "            latitude = status.coordinates['coordinates'][1]\n",
    "        \n",
    "        # Store all data in MySQL\n",
    "        if mydb.is_connected():\n",
    "            mycursor = mydb.cursor()\n",
    "            sql = f\"INSERT INTO {table_name} (created_at, text, user_location, longitude, latitude) VALUES (%s, %s, %s, %s, %s)\"\n",
    "            val = (created_at, text, user_location, longitude, latitude)\n",
    "            mycursor.execute(sql, val)\n",
    "            mydb.commit()\n",
    "            mycursor.close()\n",
    "        \n",
    "        if self.no_tweets == 0:\n",
    "            return False\n",
    "        else:\n",
    "            self.no_tweets -= 1\n",
    "    \n",
    "    \n",
    "    def on_error(self, status_code):\n",
    "        #Since Twitter API has rate limits, stop srcraping data as it exceed to the thresold.\n",
    "        \n",
    "        if status_code == 420:\n",
    "            # return False to disconnect the stream\n",
    "            return False"
   ]
  },
  {
   "cell_type": "code",
   "execution_count": 8,
   "id": "trained-intake",
   "metadata": {},
   "outputs": [],
   "source": [
    "def connect_dbs(host, user, password):\n",
    "    try:\n",
    "        conn = mysql.connector.connect(host=host, user=user,  \n",
    "                            password=password)#give ur username, password\n",
    "        if conn.is_connected():\n",
    "            cursor = conn.cursor()\n",
    "            cursor.execute(\"CREATE DATABASE databasecovid\")\n",
    "            print(\"Database is created\")\n",
    "    except Error as e:\n",
    "        print(\"Error while connecting to MySQL\", e)"
   ]
  },
  {
   "cell_type": "code",
   "execution_count": 9,
   "id": "accepting-jacksonville",
   "metadata": {},
   "outputs": [
    {
     "name": "stdout",
     "output_type": "stream",
     "text": [
      "Error while connecting to MySQL 1007 (HY000): Can't create database 'databasecovid'; database exists\n"
     ]
    }
   ],
   "source": [
    "connect_dbs('localhost', 'root', '')"
   ]
  },
  {
   "cell_type": "code",
   "execution_count": 10,
   "id": "dressed-houston",
   "metadata": {},
   "outputs": [],
   "source": [
    "login = pd.read_csv('login.csv')"
   ]
  },
  {
   "cell_type": "code",
   "execution_count": 11,
   "id": "funded-packaging",
   "metadata": {},
   "outputs": [],
   "source": [
    "api_key = login['api_key'][0]\n",
    "api_key_secret = login['api_key_secret'][0]\n",
    "access_token = login['access_token'][0]\n",
    "access_token_secret = login['access_token_secret'][0]"
   ]
  },
  {
   "cell_type": "code",
   "execution_count": 12,
   "id": "governing-justice",
   "metadata": {},
   "outputs": [],
   "source": [
    "authenticate = tweepy.OAuthHandler(api_key, api_key_secret)\n",
    "authenticate.set_access_token(access_token, access_token_secret)\n",
    "api = tweepy.API(authenticate)"
   ]
  },
  {
   "cell_type": "code",
   "execution_count": 17,
   "id": "collect-final",
   "metadata": {},
   "outputs": [],
   "source": [
    "mydb = add_tweets_db()\n",
    "myStreamListener = MyStreamListener(no_tweets=15)\n",
    "myStream = tweepy.Stream(auth = api.auth, listener = myStreamListener)\n",
    "myStream.filter(languages=[\"en\"], track = search_words)\n",
    "\n",
    "mydb.close()"
   ]
  },
  {
   "cell_type": "code",
   "execution_count": 25,
   "id": "going-discharge",
   "metadata": {},
   "outputs": [],
   "source": [
    "db_connection = mysql.connector.connect(\n",
    "    host=\"localhost\", \n",
    "    user=\"root\",\n",
    "    passwd=\"\",\n",
    "    database=\"databasecovid\"\n",
    ")"
   ]
  },
  {
   "cell_type": "code",
   "execution_count": 26,
   "id": "awful-jurisdiction",
   "metadata": {},
   "outputs": [],
   "source": [
    "df = pd.read_sql('SELECT * FROM {}'.format(table_name), con = db_connection)"
   ]
  },
  {
   "cell_type": "code",
   "execution_count": 27,
   "id": "after-acoustic",
   "metadata": {},
   "outputs": [
    {
     "data": {
      "text/html": [
       "<div>\n",
       "<style scoped>\n",
       "    .dataframe tbody tr th:only-of-type {\n",
       "        vertical-align: middle;\n",
       "    }\n",
       "\n",
       "    .dataframe tbody tr th {\n",
       "        vertical-align: top;\n",
       "    }\n",
       "\n",
       "    .dataframe thead th {\n",
       "        text-align: right;\n",
       "    }\n",
       "</style>\n",
       "<table border=\"1\" class=\"dataframe\">\n",
       "  <thead>\n",
       "    <tr style=\"text-align: right;\">\n",
       "      <th></th>\n",
       "      <th>text</th>\n",
       "      <th>created_at</th>\n",
       "    </tr>\n",
       "  </thead>\n",
       "  <tbody>\n",
       "    <tr>\n",
       "      <th>0</th>\n",
       "      <td>hart troubl</td>\n",
       "      <td>2021-11-28 23:49:32</td>\n",
       "    </tr>\n",
       "    <tr>\n",
       "      <th>1</th>\n",
       "      <td>shouldv test peopl suscept sever diseas dont t...</td>\n",
       "      <td>2021-11-28 23:49:33</td>\n",
       "    </tr>\n",
       "    <tr>\n",
       "      <th>2</th>\n",
       "      <td>wake call need learn vaccin peopl vulner covid...</td>\n",
       "      <td>2021-11-28 23:49:33</td>\n",
       "    </tr>\n",
       "    <tr>\n",
       "      <th>3</th>\n",
       "      <td>unaccept behavior outsid covid vaccin centr on...</td>\n",
       "      <td>2021-11-28 23:49:34</td>\n",
       "    </tr>\n",
       "    <tr>\n",
       "      <th>4</th>\n",
       "      <td>bori johnson let covid vaccin shot destroi sha...</td>\n",
       "      <td>2021-11-28 23:49:35</td>\n",
       "    </tr>\n",
       "    <tr>\n",
       "      <th>5</th>\n",
       "      <td>ontario confirm case omicron covid variant pro...</td>\n",
       "      <td>2021-11-28 23:49:35</td>\n",
       "    </tr>\n",
       "    <tr>\n",
       "      <th>6</th>\n",
       "      <td>week senior di normal rate despit vaccin rate ...</td>\n",
       "      <td>2021-11-28 23:49:35</td>\n",
       "    </tr>\n",
       "    <tr>\n",
       "      <th>7</th>\n",
       "      <td>reduc h valid test equal impli oblig vaccin fa...</td>\n",
       "      <td>2021-11-28 23:49:36</td>\n",
       "    </tr>\n",
       "    <tr>\n",
       "      <th>8</th>\n",
       "      <td>interest test govt commit parliamentari scruti...</td>\n",
       "      <td>2021-11-28 23:49:38</td>\n",
       "    </tr>\n",
       "    <tr>\n",
       "      <th>9</th>\n",
       "      <td>intel covid certstream suspici domain janssenc...</td>\n",
       "      <td>2021-11-28 23:49:38</td>\n",
       "    </tr>\n",
       "    <tr>\n",
       "      <th>10</th>\n",
       "      <td>india children physic school year covid int partn</td>\n",
       "      <td>2021-11-28 23:49:39</td>\n",
       "    </tr>\n",
       "    <tr>\n",
       "      <th>11</th>\n",
       "      <td>cool</td>\n",
       "      <td>2021-11-29 01:14:42</td>\n",
       "    </tr>\n",
       "    <tr>\n",
       "      <th>12</th>\n",
       "      <td>absoluttruth ebenezersisolak wish happyholidai im</td>\n",
       "      <td>2021-11-29 01:14:44</td>\n",
       "    </tr>\n",
       "    <tr>\n",
       "      <th>13</th>\n",
       "      <td>break amid outbreak omicron variant far trace ...</td>\n",
       "      <td>2021-11-29 01:14:44</td>\n",
       "    </tr>\n",
       "    <tr>\n",
       "      <th>14</th>\n",
       "      <td>structur chang observ newli report emerg varia...</td>\n",
       "      <td>2021-11-29 01:14:46</td>\n",
       "    </tr>\n",
       "    <tr>\n",
       "      <th>15</th>\n",
       "      <td>ok sarscov that rid wai societi trust scienc ca</td>\n",
       "      <td>2021-11-29 01:14:46</td>\n",
       "    </tr>\n",
       "    <tr>\n",
       "      <th>16</th>\n",
       "      <td>absoluttruth absoluttruth</td>\n",
       "      <td>2021-11-29 01:14:50</td>\n",
       "    </tr>\n",
       "    <tr>\n",
       "      <th>17</th>\n",
       "      <td>perfect bioweaponit overgovern us stori immuno...</td>\n",
       "      <td>2021-11-29 01:14:50</td>\n",
       "    </tr>\n",
       "    <tr>\n",
       "      <th>18</th>\n",
       "      <td>follow new covid mask regul</td>\n",
       "      <td>2021-11-29 01:14:50</td>\n",
       "    </tr>\n",
       "    <tr>\n",
       "      <th>19</th>\n",
       "      <td>exact covid hospit breakdown gauteng provinc p...</td>\n",
       "      <td>2021-11-29 01:14:50</td>\n",
       "    </tr>\n",
       "    <tr>\n",
       "      <th>20</th>\n",
       "      <td>vaccin boost vaccinemand</td>\n",
       "      <td>2021-11-29 01:14:51</td>\n",
       "    </tr>\n",
       "    <tr>\n",
       "      <th>21</th>\n",
       "      <td>gate warn disturb habit come true he heck prop...</td>\n",
       "      <td>2021-11-29 01:14:52</td>\n",
       "    </tr>\n",
       "  </tbody>\n",
       "</table>\n",
       "</div>"
      ],
      "text/plain": [
       "                                                 text          created_at\n",
       "0                                         hart troubl 2021-11-28 23:49:32\n",
       "1   shouldv test peopl suscept sever diseas dont t... 2021-11-28 23:49:33\n",
       "2   wake call need learn vaccin peopl vulner covid... 2021-11-28 23:49:33\n",
       "3   unaccept behavior outsid covid vaccin centr on... 2021-11-28 23:49:34\n",
       "4   bori johnson let covid vaccin shot destroi sha... 2021-11-28 23:49:35\n",
       "5   ontario confirm case omicron covid variant pro... 2021-11-28 23:49:35\n",
       "6   week senior di normal rate despit vaccin rate ... 2021-11-28 23:49:35\n",
       "7   reduc h valid test equal impli oblig vaccin fa... 2021-11-28 23:49:36\n",
       "8   interest test govt commit parliamentari scruti... 2021-11-28 23:49:38\n",
       "9   intel covid certstream suspici domain janssenc... 2021-11-28 23:49:38\n",
       "10  india children physic school year covid int partn 2021-11-28 23:49:39\n",
       "11                                               cool 2021-11-29 01:14:42\n",
       "12  absoluttruth ebenezersisolak wish happyholidai im 2021-11-29 01:14:44\n",
       "13  break amid outbreak omicron variant far trace ... 2021-11-29 01:14:44\n",
       "14  structur chang observ newli report emerg varia... 2021-11-29 01:14:46\n",
       "15    ok sarscov that rid wai societi trust scienc ca 2021-11-29 01:14:46\n",
       "16                          absoluttruth absoluttruth 2021-11-29 01:14:50\n",
       "17  perfect bioweaponit overgovern us stori immuno... 2021-11-29 01:14:50\n",
       "18                        follow new covid mask regul 2021-11-29 01:14:50\n",
       "19  exact covid hospit breakdown gauteng provinc p... 2021-11-29 01:14:50\n",
       "20                           vaccin boost vaccinemand 2021-11-29 01:14:51\n",
       "21  gate warn disturb habit come true he heck prop... 2021-11-29 01:14:52"
      ]
     },
     "execution_count": 27,
     "metadata": {},
     "output_type": "execute_result"
    }
   ],
   "source": [
    "df"
   ]
  },
  {
   "cell_type": "code",
   "execution_count": 19,
   "id": "anonymous-freedom",
   "metadata": {},
   "outputs": [
    {
     "ename": "ConfigurationError",
     "evalue": "Using Nominatim with default or sample `user_agent` \"my-application\" is strongly discouraged, as it violates Nominatim's ToS https://operations.osmfoundation.org/policies/nominatim/ and may possibly cause 403 and 429 HTTP errors. Please specify a custom `user_agent` with `Nominatim(user_agent=\"my-application\")` or by overriding the default `user_agent`: `geopy.geocoders.options.default_user_agent = \"my-application\"`.",
     "output_type": "error",
     "traceback": [
      "\u001b[1;31m---------------------------------------------------------------------------\u001b[0m",
      "\u001b[1;31mConfigurationError\u001b[0m                        Traceback (most recent call last)",
      "\u001b[1;32m<ipython-input-19-3741ab9dc873>\u001b[0m in \u001b[0;36m<module>\u001b[1;34m\u001b[0m\n\u001b[0;32m      1\u001b[0m \u001b[1;32mfrom\u001b[0m  \u001b[0mgeopy\u001b[0m\u001b[1;33m.\u001b[0m\u001b[0mgeocoders\u001b[0m \u001b[1;32mimport\u001b[0m \u001b[0mNominatim\u001b[0m\u001b[1;33m\u001b[0m\u001b[1;33m\u001b[0m\u001b[0m\n\u001b[1;32m----> 2\u001b[1;33m \u001b[0mgeolocator\u001b[0m \u001b[1;33m=\u001b[0m \u001b[0mNominatim\u001b[0m\u001b[1;33m(\u001b[0m\u001b[0muser_agent\u001b[0m\u001b[1;33m=\u001b[0m\u001b[1;34m\"my-application\"\u001b[0m\u001b[1;33m)\u001b[0m\u001b[1;33m\u001b[0m\u001b[1;33m\u001b[0m\u001b[0m\n\u001b[0m\u001b[0;32m      3\u001b[0m \u001b[0mloc\u001b[0m \u001b[1;33m=\u001b[0m \u001b[0mgeolocator\u001b[0m\u001b[1;33m.\u001b[0m\u001b[0mgeocode\u001b[0m\u001b[1;33m(\u001b[0m\u001b[1;34m'Nu-BulEyE'\u001b[0m\u001b[1;33m)\u001b[0m\u001b[1;33m\u001b[0m\u001b[1;33m\u001b[0m\u001b[0m\n\u001b[0;32m      4\u001b[0m \u001b[0mprint\u001b[0m\u001b[1;33m(\u001b[0m\u001b[1;34m\"latitude is :-\"\u001b[0m \u001b[1;33m,\u001b[0m\u001b[0mloc\u001b[0m\u001b[1;33m.\u001b[0m\u001b[0mlatitude\u001b[0m\u001b[1;33m,\u001b[0m\u001b[1;34m\"\\nlongtitude is:-\"\u001b[0m \u001b[1;33m,\u001b[0m\u001b[0mloc\u001b[0m\u001b[1;33m.\u001b[0m\u001b[0mlongitude\u001b[0m\u001b[1;33m)\u001b[0m\u001b[1;33m\u001b[0m\u001b[1;33m\u001b[0m\u001b[0m\n",
      "\u001b[1;32mC:\\ProgramData\\Miniconda3\\lib\\site-packages\\geopy\\geocoders\\nominatim.py\u001b[0m in \u001b[0;36m__init__\u001b[1;34m(self, timeout, proxies, domain, scheme, user_agent, ssl_context, adapter_factory)\u001b[0m\n\u001b[0;32m    103\u001b[0m         if (self.domain == _DEFAULT_NOMINATIM_DOMAIN\n\u001b[0;32m    104\u001b[0m                 and self.headers['User-Agent'] in _REJECTED_USER_AGENTS):\n\u001b[1;32m--> 105\u001b[1;33m             raise ConfigurationError(\n\u001b[0m\u001b[0;32m    106\u001b[0m                 \u001b[1;34m'Using Nominatim with default or sample `user_agent` \"%s\" is '\u001b[0m\u001b[1;33m\u001b[0m\u001b[1;33m\u001b[0m\u001b[0m\n\u001b[0;32m    107\u001b[0m                 \u001b[1;34m'strongly discouraged, as it violates Nominatim\\'s ToS '\u001b[0m\u001b[1;33m\u001b[0m\u001b[1;33m\u001b[0m\u001b[0m\n",
      "\u001b[1;31mConfigurationError\u001b[0m: Using Nominatim with default or sample `user_agent` \"my-application\" is strongly discouraged, as it violates Nominatim's ToS https://operations.osmfoundation.org/policies/nominatim/ and may possibly cause 403 and 429 HTTP errors. Please specify a custom `user_agent` with `Nominatim(user_agent=\"my-application\")` or by overriding the default `user_agent`: `geopy.geocoders.options.default_user_agent = \"my-application\"`."
     ]
    }
   ],
   "source": [
    "from  geopy.geocoders import Nominatim\n",
    "geolocator = Nominatim(user_agent=\"my-application\")\n",
    "loc = geolocator.geocode('Nu-BulEyE')\n",
    "print(\"latitude is :-\" ,loc.latitude,\"\\nlongtitude is:-\" ,loc.longitude)"
   ]
  },
  {
   "cell_type": "code",
   "execution_count": null,
   "id": "confidential-circuit",
   "metadata": {},
   "outputs": [],
   "source": [
    "Nu-BulEyE"
   ]
  }
 ],
 "metadata": {
  "kernelspec": {
   "display_name": "Python 3",
   "language": "python",
   "name": "python3"
  },
  "language_info": {
   "codemirror_mode": {
    "name": "ipython",
    "version": 3
   },
   "file_extension": ".py",
   "mimetype": "text/x-python",
   "name": "python",
   "nbconvert_exporter": "python",
   "pygments_lexer": "ipython3",
   "version": "3.8.8"
  }
 },
 "nbformat": 4,
 "nbformat_minor": 5
}
