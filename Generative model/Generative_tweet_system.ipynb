{
 "cells": [
  {
   "cell_type": "markdown",
   "metadata": {
    "id": "74AbH8TBcR0d"
   },
   "source": [
    "# Character-level text generation with LSTM\n",
    "**Description:** Generate text from Nietzsche's writings with a character-level LSTM."
   ]
  },
  {
   "cell_type": "markdown",
   "metadata": {
    "id": "K9TA2SgqcR0l"
   },
   "source": [
    "## Setup\n"
   ]
  },
  {
   "cell_type": "code",
   "execution_count": 7,
   "metadata": {
    "id": "Y7e3ri8acR0m"
   },
   "outputs": [],
   "source": [
    "# import libraries\n",
    "import random\n",
    "import io\n",
    "\n",
    "from GenerativeNotToxic import GenerativeTweet\n",
    "import mysql.connector\n",
    "\n",
    "from tensorflow import keras\n",
    "from tensorflow.keras import layers\n",
    "\n",
    "from keras.models import Model, load_model\n",
    "from keras.callbacks import ModelCheckpoint\n",
    "from keras.utils.vis_utils import plot_model\n",
    "\n",
    "import pandas as pd\n",
    "import numpy as np\n",
    "import re\n"
   ]
  },
  {
   "cell_type": "code",
   "execution_count": 9,
   "metadata": {
    "id": "Jcabu0SubJm8"
   },
   "outputs": [],
   "source": [
    "# read the data set\n",
    "tweets = pd.read_csv('NoToxicTweets.csv')\n",
    "tweets.drop(columns = ['toxic'], inplace = True)"
   ]
  },
  {
   "cell_type": "code",
   "execution_count": 10,
   "metadata": {
    "id": "_GvQRadaLJHO"
   },
   "outputs": [],
   "source": [
    "path = 'vocabulary.txt'"
   ]
  },
  {
   "cell_type": "code",
   "execution_count": 11,
   "metadata": {
    "id": "90hH_yjcdO1A"
   },
   "outputs": [],
   "source": [
    "# convert all tweets in lines\n",
    "with open(path, 'w') as file:\n",
    "    for tweet in tweets.pure_tweet:\n",
    "        file.write(f'{tweet}\\n')\n",
    "    file.close()"
   ]
  },
  {
   "cell_type": "code",
   "execution_count": 8,
   "metadata": {
    "colab": {
     "base_uri": "https://localhost:8080/"
    },
    "id": "Looes-lLfNXD",
    "outputId": "7e72f2bb-38e7-44c6-c14e-4a2a966f77c5"
   },
   "outputs": [
    {
     "name": "stdout",
     "output_type": "stream",
     "text": [
      "guys people in sweden are now inserting microchips in their hands with their covid passports on it they scan their\n",
      "defense secretary lloyd austin has rejected oklahomas request to exempt the states national guard members from the pent\n",
      "antivaccine christian broadcaster marcus lamb dies at age after contracting covid\n",
      "federal judge blocks bidens covid vaccine mandate for health care workers\n",
      "so having covid after vax is acceptable but covid unvaxxed is not socially acceptable\n",
      "covid is the first thing lebrons ever got from china that wasnt made by slaves\n",
      "lebron james has entered the nbas coronavirus health and safety protocols it is unclear whether he has tested positive for c\n",
      "we all owe south africa a thank you and an apology\n",
      "so does the covid vaccine\n",
      "never forget droz pushed for hydroxycholoquine as a cureall for covid which it is not he helped keep the medicat\n"
     ]
    }
   ],
   "source": [
    "!cat vocabulary.txt  | head -n 10"
   ]
  },
  {
   "cell_type": "markdown",
   "metadata": {
    "id": "LCGNQ7rwcR0p"
   },
   "source": [
    "## Prepare the data\n"
   ]
  },
  {
   "cell_type": "code",
   "execution_count": 9,
   "metadata": {
    "colab": {
     "base_uri": "https://localhost:8080/"
    },
    "id": "zwKL6JMrcR0p",
    "outputId": "0241ef92-611a-42ac-9c0c-083ae6a60601"
   },
   "outputs": [
    {
     "name": "stdout",
     "output_type": "stream",
     "text": [
      "Corpus length: 176357\n",
      "Total chars: 27\n",
      "Number of sequences: 58753\n"
     ]
    }
   ],
   "source": [
    "\n",
    "\n",
    "with io.open(path, encoding=\"utf-8\") as f:\n",
    "    text = f.read().lower()\n",
    "text = text.replace(\"\\n\", \" \")  # We remove newlines chars for nicer display\n",
    "print(\"Corpus length:\", len(text))\n",
    "\n",
    "chars = sorted(list(set(text)))\n",
    "print(\"Total chars:\", len(chars))\n",
    "char_indices = dict((c, i) for i, c in enumerate(chars))\n",
    "indices_char = dict((i, c) for i, c in enumerate(chars))\n",
    "\n",
    "# cut the text in semi-redundant sequences of maxlen characters\n",
    "maxlen = 100\n",
    "step = 3\n",
    "sentences = []\n",
    "next_chars = []\n",
    "for i in range(0, len(text) - maxlen, step):\n",
    "    sentences.append(text[i : i + maxlen])\n",
    "    next_chars.append(text[i + maxlen])\n",
    "print(\"Number of sequences:\", len(sentences))\n",
    "\n",
    "x = np.zeros((len(sentences), maxlen, len(chars)), dtype=np.bool)\n",
    "y = np.zeros((len(sentences), len(chars)), dtype=np.bool)\n",
    "for i, sentence in enumerate(sentences):\n",
    "    for t, char in enumerate(sentence):\n",
    "        x[i, t, char_indices[char]] = 1\n",
    "    y[i, char_indices[next_chars[i]]] = 1\n",
    "\n"
   ]
  },
  {
   "cell_type": "markdown",
   "metadata": {
    "id": "T_dZEZXocR0r"
   },
   "source": [
    "## Build the model: a single LSTM layer\n"
   ]
  },
  {
   "cell_type": "code",
   "execution_count": 10,
   "metadata": {
    "id": "ogwyvkcEcR0s"
   },
   "outputs": [],
   "source": [
    "# build the model\n",
    "model = keras.Sequential(\n",
    "    [\n",
    "        keras.Input(shape=(maxlen, len(chars))),\n",
    "        layers.LSTM(128),\n",
    "        layers.Dropout(0.5),\n",
    "        layers.Dense(len(chars), activation=\"softmax\"),\n",
    "    ]\n",
    ")"
   ]
  },
  {
   "cell_type": "markdown",
   "metadata": {
    "id": "haZsDr6EcR0t"
   },
   "source": [
    "## Prepare the text sampling function\n"
   ]
  },
  {
   "cell_type": "code",
   "execution_count": 11,
   "metadata": {
    "id": "JriWiT_kcR0u"
   },
   "outputs": [],
   "source": [
    "def sample(preds, temperature=1.0):\n",
    "    # helper function to sample an index from a probability array\n",
    "    preds = np.asarray(preds).astype(\"float64\")\n",
    "    preds = np.log(preds) / temperature\n",
    "    exp_preds = np.exp(preds)\n",
    "    preds = exp_preds / np.sum(exp_preds)\n",
    "    probas = np.random.multinomial(1, preds, 1)\n",
    "    return np.argmax(probas)\n",
    "\n"
   ]
  },
  {
   "cell_type": "markdown",
   "metadata": {
    "id": "fGJkhB4AcR0v"
   },
   "source": [
    "## Train the model\n"
   ]
  },
  {
   "cell_type": "code",
   "execution_count": 12,
   "metadata": {
    "id": "_XLv-6yUmZGx"
   },
   "outputs": [],
   "source": [
    "ML_VERSION = \"v1\""
   ]
  },
  {
   "cell_type": "code",
   "execution_count": 13,
   "metadata": {
    "id": "yCLYgOouqvUP"
   },
   "outputs": [],
   "source": [
    "model = load_model(f\"tweets.{ML_VERSION}.modelgenerative.hdf5\")"
   ]
  },
  {
   "cell_type": "code",
   "execution_count": 14,
   "metadata": {
    "colab": {
     "base_uri": "https://localhost:8080/"
    },
    "id": "TCeeQuQnmDc_",
    "outputId": "4d58924c-1aee-40ac-ee2c-06aad54132af"
   },
   "outputs": [
    {
     "name": "stdout",
     "output_type": "stream",
     "text": [
      "Epoch 1/2\n",
      "46/46 [==============================] - ETA: 0s - loss: 2.2425 - accuracy: 0.3365\n",
      "Epoch 00001: loss improved from inf to 2.24246, saving model to /content/drive/MyDrive/tweets.v1.modelgenerative.hdf5\n",
      "46/46 [==============================] - 99s 2s/step - loss: 2.2425 - accuracy: 0.3365 - val_loss: 2.2059 - val_accuracy: 0.3403\n",
      "Epoch 2/2\n",
      "46/46 [==============================] - ETA: 0s - loss: 2.2394 - accuracy: 0.3361\n",
      "Epoch 00002: loss improved from 2.24246 to 2.23942, saving model to /content/drive/MyDrive/tweets.v1.modelgenerative.hdf5\n",
      "46/46 [==============================] - 101s 2s/step - loss: 2.2394 - accuracy: 0.3361 - val_loss: 2.2056 - val_accuracy: 0.3386\n"
     ]
    },
    {
     "data": {
      "text/plain": [
       "<keras.callbacks.History at 0x7fd99cdd6450>"
      ]
     },
     "execution_count": 14,
     "metadata": {},
     "output_type": "execute_result"
    }
   ],
   "source": [
    "epochs = 2\n",
    "batch_size = 1024\n",
    "\n",
    "\n",
    "optimizer = keras.optimizers.RMSprop(learning_rate=0.0001)\n",
    "#model.compile(loss=\"categorical_crossentropy\", optimizer=optimizer)\n",
    "# Run training\n",
    "model.compile(optimizer=optimizer, loss='categorical_crossentropy',\n",
    "              metrics=['accuracy'], run_eagerly=True)\n",
    "checkpointer = ModelCheckpoint(filepath=f\"tweets.{ML_VERSION}.modelgenerative.hdf5\", monitor='loss', verbose=1, save_best_only=True, mode='min')\n",
    "model.fit(x, y, batch_size=batch_size, epochs=epochs, validation_split=0.2, callbacks=[checkpointer])"
   ]
  },
  {
   "cell_type": "code",
   "execution_count": 15,
   "metadata": {
    "id": "9mV13D4gmDsb"
   },
   "outputs": [],
   "source": [
    "def generate(model, sentence, diversity):\n",
    "    generated = \"\"\n",
    "    for i in range(100):\n",
    "        x_pred = np.zeros((1, maxlen, len(chars)))\n",
    "        for t, char in enumerate(sentence):\n",
    "            x_pred[0, t, char_indices[char]] = 1.0\n",
    "        preds = model.predict(x_pred, verbose=0)[0]\n",
    "        next_index = sample(preds, diversity)\n",
    "        next_char = indices_char[next_index]\n",
    "        sentence = sentence[1:] + next_char\n",
    "        generated += next_char\n",
    "\n",
    "    return generated"
   ]
  },
  {
   "cell_type": "code",
   "execution_count": null,
   "metadata": {
    "colab": {
     "base_uri": "https://localhost:8080/",
     "height": 422
    },
    "id": "jbm20JHntMVj",
    "outputId": "d2da0688-10c9-430c-d0f0-a9231474982b"
   },
   "outputs": [
    {
     "data": {
      "image/png": "[encoded data removed]",
      "text/plain": [
       "<IPython.core.display.Image object>"
      ]
     },
     "execution_count": 21,
     "metadata": {},
     "output_type": "execute_result"
    }
   ],
   "source": [
    "plot_model(model, to_file=\"model_plot.png\", show_shapes=True, show_layer_names=True)"
   ]
  },
  {
   "cell_type": "code",
   "execution_count": 17,
   "metadata": {
    "colab": {
     "base_uri": "https://localhost:8080/",
     "height": 35
    },
    "id": "vQvYD_gzmDvD",
    "outputId": "34b08d8b-3f43-46f2-dbdc-2c3b3df1fd86"
   },
   "outputs": [
    {
     "data": {
      "application/vnd.google.colaboratory.intrinsic+json": {
       "type": "string"
      },
      "text/plain": [
       "'ylamvdwtbhupdjwffkpqqxxwmmeelzzgroneacrlpszuojpnociyhosinrswongldpmpjh  tiqudmuujdlyldnkkmxsmnjgneaf'"
      ]
     },
     "execution_count": 17,
     "metadata": {},
     "output_type": "execute_result"
    }
   ],
   "source": [
    "text = \"fuck you bitch\"\n",
    "#print(len(text))\n",
    "generate(model, text, 1.5)\n",
    "\n"
   ]
  }
 ],
 "metadata": {
  "colab": {
   "collapsed_sections": [],
   "name": "Generative tweet system.ipynb",
   "provenance": []
  },
  "kernelspec": {
   "display_name": "Python 3",
   "language": "python",
   "name": "python3"
  },
  "language_info": {
   "codemirror_mode": {
    "name": "ipython",
    "version": 3
   },
   "file_extension": ".py",
   "mimetype": "text/x-python",
   "name": "python",
   "nbconvert_exporter": "python",
   "pygments_lexer": "ipython3",
   "version": "3.8.8"
  }
 },
 "nbformat": 4,
 "nbformat_minor": 4
}
