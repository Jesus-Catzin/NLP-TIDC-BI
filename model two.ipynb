{
 "cells": [
  {
   "cell_type": "code",
   "execution_count": 1,
   "id": "ready-shipping",
   "metadata": {},
   "outputs": [],
   "source": [
    "import sys\n",
    "import numpy as np\n",
    "import pandas as pd \n",
    "import matplotlib.pyplot as plt\n",
    "import seaborn as sns\n",
    "import re\n",
    "\n",
    "import gensim\n",
    "from gensim.parsing.preprocessing import remove_stopwords\n",
    "from gensim.parsing.porter import PorterStemmer\n",
    "\n",
    "from sklearn.model_selection import train_test_split\n",
    "from sklearn.metrics import f1_score, accuracy_score\n",
    "from sklearn.utils import shuffle\n",
    "\n",
    "import tensorflow as tf\n",
    "from keras.preprocessing.text import Tokenizer\n",
    "from tensorflow.keras.layers import Flatten, Dropout, Dense, LSTM, Embedding\n",
    "from tensorflow.keras.models import Sequential\n",
    "from tensorflow.keras.preprocessing.text import one_hot\n",
    "from tensorflow.keras.preprocessing.sequence import pad_sequences\n",
    "from keras.callbacks import EarlyStopping\n",
    "\n",
    "from sklearn.metrics import confusion_matrix, accuracy_score"
   ]
  },
  {
   "cell_type": "code",
   "execution_count": 2,
   "id": "grand-fraction",
   "metadata": {},
   "outputs": [],
   "source": [
    "df = pd.read_csv('train.csv')"
   ]
  },
  {
   "cell_type": "code",
   "execution_count": 3,
   "id": "billion-humor",
   "metadata": {},
   "outputs": [],
   "source": [
    "df['senti'] = (df[['toxic', 'severe_toxic', 'obscene', 'threat', 'insult', 'identity_hate']].sum(axis=1) > 0 ).astype(int)\n",
    "df = df[['comment_text', 'senti']].rename(columns={'comment_text': 'tweet'})"
   ]
  },
  {
   "cell_type": "code",
   "execution_count": 4,
   "id": "spatial-seminar",
   "metadata": {},
   "outputs": [],
   "source": [
    "min_len = (df['senti'] == 1).sum()\n",
    "df_undersample = df[df['senti'] == 0].sample(n=min_len, random_state=201)\n",
    "df = pd.concat([df_undersample, df[df['senti'] == 1]])\n",
    "df = shuffle(df)"
   ]
  },
  {
   "cell_type": "code",
   "execution_count": 5,
   "id": "nasty-indonesia",
   "metadata": {},
   "outputs": [],
   "source": [
    "df['senti'] = df['senti'].apply(lambda senti : 'toxic' if senti == 1 else 'no_toxic')"
   ]
  },
  {
   "cell_type": "code",
   "execution_count": 6,
   "id": "regular-shade",
   "metadata": {},
   "outputs": [],
   "source": [
    "Y = df.senti\n",
    "Y = pd.get_dummies(Y)\n",
    "X = df.drop('senti', axis = 1)"
   ]
  },
  {
   "cell_type": "code",
   "execution_count": 7,
   "id": "closing-ability",
   "metadata": {},
   "outputs": [
    {
     "data": {
      "text/html": [
       "<div>\n",
       "<style scoped>\n",
       "    .dataframe tbody tr th:only-of-type {\n",
       "        vertical-align: middle;\n",
       "    }\n",
       "\n",
       "    .dataframe tbody tr th {\n",
       "        vertical-align: top;\n",
       "    }\n",
       "\n",
       "    .dataframe thead th {\n",
       "        text-align: right;\n",
       "    }\n",
       "</style>\n",
       "<table border=\"1\" class=\"dataframe\">\n",
       "  <thead>\n",
       "    <tr style=\"text-align: right;\">\n",
       "      <th></th>\n",
       "      <th>tweet</th>\n",
       "    </tr>\n",
       "  </thead>\n",
       "  <tbody>\n",
       "    <tr>\n",
       "      <th>0</th>\n",
       "      <td>(Future Perfect at Sunrise)</td>\n",
       "    </tr>\n",
       "    <tr>\n",
       "      <th>1</th>\n",
       "      <td>Dean Gaffney \\n\\nJPS, I'm not suprised it was ...</td>\n",
       "    </tr>\n",
       "    <tr>\n",
       "      <th>2</th>\n",
       "      <td>Man you are one ugly bitch \\n\\nAnd that's a fa...</td>\n",
       "    </tr>\n",
       "    <tr>\n",
       "      <th>3</th>\n",
       "      <td>\"\\n\\nFair use rationale for Image:Raze's_Hell....</td>\n",
       "    </tr>\n",
       "    <tr>\n",
       "      <th>4</th>\n",
       "      <td>My real advice is don't be a dick. I have noth...</td>\n",
       "    </tr>\n",
       "  </tbody>\n",
       "</table>\n",
       "</div>"
      ],
      "text/plain": [
       "                                               tweet\n",
       "0                        (Future Perfect at Sunrise)\n",
       "1  Dean Gaffney \\n\\nJPS, I'm not suprised it was ...\n",
       "2  Man you are one ugly bitch \\n\\nAnd that's a fa...\n",
       "3  \"\\n\\nFair use rationale for Image:Raze's_Hell....\n",
       "4  My real advice is don't be a dick. I have noth..."
      ]
     },
     "execution_count": 7,
     "metadata": {},
     "output_type": "execute_result"
    }
   ],
   "source": [
    "tweets = X.copy()\n",
    "tweets.reset_index(inplace = True, drop = True)\n",
    "tweets.head()"
   ]
  },
  {
   "cell_type": "code",
   "execution_count": 8,
   "id": "arbitrary-intensity",
   "metadata": {},
   "outputs": [],
   "source": [
    "class Preprocessor():\n",
    "    def __init__(self):\n",
    "        pass\n",
    "    \n",
    "    def __stem_word(self, text):\n",
    "        por = PorterStemmer()\n",
    "        return por.stem_sentence(text)\n",
    "    \n",
    "    def __clear_stop_words(self, text):\n",
    "        return remove_stopwords(text) \n",
    "    \n",
    "    def __re_process(self, text):\n",
    "        text = re.sub(r'@[A-Za-z0-9]+', '', text) #Removing tags\n",
    "        text = re.sub(r'#', '', text) # Removing the \"#\" symbol\n",
    "        text = re.sub(r'RT', '', text) # Removing RT\n",
    "        text = re.sub(r'https?:\\/\\/\\S+', '', text) #Remove links\n",
    "        text = re.sub(r'[^A-Za-z\\s]+', '', text) # Remove not letters\n",
    "        text =  \" \".join(text.split())\n",
    "        return text.lower()\n",
    "    \n",
    "    def cleaning(self, x_data):\n",
    "        clear_x_data = x_data.apply(self.__re_process)\n",
    "        clear_x_data = clear_x_data.apply(self.__clear_stop_words)\n",
    "        clear_x_data = clear_x_data.apply(self.__stem_word)\n",
    "        return clear_x_data\n"
   ]
  },
  {
   "cell_type": "code",
   "execution_count": 9,
   "id": "contained-peter",
   "metadata": {},
   "outputs": [],
   "source": [
    "process = Preprocessor()\n",
    "clear_data = process.cleaning(tweets['tweet'])\n",
    "tweets['tweet'] = clear_data"
   ]
  },
  {
   "cell_type": "code",
   "execution_count": 10,
   "id": "subjective-sterling",
   "metadata": {},
   "outputs": [
    {
     "data": {
      "text/html": [
       "<div>\n",
       "<style scoped>\n",
       "    .dataframe tbody tr th:only-of-type {\n",
       "        vertical-align: middle;\n",
       "    }\n",
       "\n",
       "    .dataframe tbody tr th {\n",
       "        vertical-align: top;\n",
       "    }\n",
       "\n",
       "    .dataframe thead th {\n",
       "        text-align: right;\n",
       "    }\n",
       "</style>\n",
       "<table border=\"1\" class=\"dataframe\">\n",
       "  <thead>\n",
       "    <tr style=\"text-align: right;\">\n",
       "      <th></th>\n",
       "      <th>tweet</th>\n",
       "    </tr>\n",
       "  </thead>\n",
       "  <tbody>\n",
       "    <tr>\n",
       "      <th>0</th>\n",
       "      <td>futur perfect sunris</td>\n",
       "    </tr>\n",
       "    <tr>\n",
       "      <th>1</th>\n",
       "      <td>dean gaffnei jp im supris block pedophil frien...</td>\n",
       "    </tr>\n",
       "    <tr>\n",
       "      <th>2</th>\n",
       "      <td>man ugli bitch that fact bedford</td>\n",
       "    </tr>\n",
       "    <tr>\n",
       "      <th>3</th>\n",
       "      <td>fair us rational imagerazeshelljpg thank uploa...</td>\n",
       "    </tr>\n",
       "    <tr>\n",
       "      <th>4</th>\n",
       "      <td>real advic dont dick baseless threat rant line...</td>\n",
       "    </tr>\n",
       "  </tbody>\n",
       "</table>\n",
       "</div>"
      ],
      "text/plain": [
       "                                               tweet\n",
       "0                               futur perfect sunris\n",
       "1  dean gaffnei jp im supris block pedophil frien...\n",
       "2                   man ugli bitch that fact bedford\n",
       "3  fair us rational imagerazeshelljpg thank uploa...\n",
       "4  real advic dont dick baseless threat rant line..."
      ]
     },
     "execution_count": 10,
     "metadata": {},
     "output_type": "execute_result"
    }
   ],
   "source": [
    "tweets.head()"
   ]
  },
  {
   "cell_type": "markdown",
   "id": "lesser-estate",
   "metadata": {},
   "source": [
    "## Embedding"
   ]
  },
  {
   "cell_type": "code",
   "execution_count": 11,
   "id": "nervous-expansion",
   "metadata": {},
   "outputs": [],
   "source": [
    "DIM = 400\n",
    "\n",
    "split_words = [d.split() for d in tweets['tweet']]\n",
    "w2v_model = gensim.models.Word2Vec(sentences = split_words, vector_size = DIM, window = 10, min_count = 1)"
   ]
  },
  {
   "cell_type": "code",
   "execution_count": 12,
   "id": "committed-lafayette",
   "metadata": {},
   "outputs": [
    {
     "data": {
      "text/plain": [
       "54761"
      ]
     },
     "execution_count": 12,
     "metadata": {},
     "output_type": "execute_result"
    }
   ],
   "source": [
    "len(w2v_model.wv.key_to_index.keys()) "
   ]
  },
  {
   "cell_type": "code",
   "execution_count": 13,
   "id": "decent-seattle",
   "metadata": {},
   "outputs": [],
   "source": [
    "tokenizer = Tokenizer()\n",
    "tokenizer.fit_on_texts(split_words) \n",
    "X_data = tokenizer.texts_to_sequences(split_words)\n",
    "X_data = pad_sequences(X_data, padding = 'pre', maxlen = 20)"
   ]
  },
  {
   "cell_type": "code",
   "execution_count": 14,
   "id": "external-shark",
   "metadata": {},
   "outputs": [],
   "source": [
    "vocab_size = len(tokenizer.word_index) + 1 \n",
    "vocab = tokenizer.word_index"
   ]
  },
  {
   "cell_type": "code",
   "execution_count": 15,
   "id": "essential-emission",
   "metadata": {},
   "outputs": [],
   "source": [
    "def get_weights_matrix(model) :\n",
    "    weights_matrix = np.zeros((vocab_size, DIM))\n",
    "    \n",
    "    for word, i in vocab.items() :\n",
    "        weights_matrix[i] = model.wv[word]\n",
    "        \n",
    "    return weights_matrix\n",
    "\n",
    "\n",
    "embedding_vectors = get_weights_matrix(w2v_model) "
   ]
  },
  {
   "cell_type": "code",
   "execution_count": 16,
   "id": "authentic-manchester",
   "metadata": {},
   "outputs": [],
   "source": [
    "model = Sequential()\n",
    "\n",
    "model.add(Embedding(vocab_size, output_dim = DIM, weights = [embedding_vectors], input_length = 20)) \n",
    "model.add(Dropout(0.2))\n",
    "\n",
    "model.add(LSTM(64))\n",
    "model.add(Dropout(0.2))\n",
    "\n",
    "model.add(Dense(64, activation='relu'))\n",
    "model.add(Dropout(0.2))\n",
    "\n",
    "model.add(Dense(64, activation='relu'))\n",
    "model.add(Dropout(0.2))\n",
    "\n",
    "model.add(Dense(2, activation = 'sigmoid'))"
   ]
  },
  {
   "cell_type": "code",
   "execution_count": 17,
   "id": "foreign-still",
   "metadata": {},
   "outputs": [
    {
     "name": "stdout",
     "output_type": "stream",
     "text": [
      "Model: \"sequential\"\n",
      "_________________________________________________________________\n",
      " Layer (type)                Output Shape              Param #   \n",
      "=================================================================\n",
      " embedding (Embedding)       (None, 20, 400)           21904800  \n",
      "                                                                 \n",
      " dropout (Dropout)           (None, 20, 400)           0         \n",
      "                                                                 \n",
      " lstm (LSTM)                 (None, 64)                119040    \n",
      "                                                                 \n",
      " dropout_1 (Dropout)         (None, 64)                0         \n",
      "                                                                 \n",
      " dense (Dense)               (None, 64)                4160      \n",
      "                                                                 \n",
      " dropout_2 (Dropout)         (None, 64)                0         \n",
      "                                                                 \n",
      " dense_1 (Dense)             (None, 64)                4160      \n",
      "                                                                 \n",
      " dropout_3 (Dropout)         (None, 64)                0         \n",
      "                                                                 \n",
      " dense_2 (Dense)             (None, 2)                 130       \n",
      "                                                                 \n",
      "=================================================================\n",
      "Total params: 22,032,290\n",
      "Trainable params: 22,032,290\n",
      "Non-trainable params: 0\n",
      "_________________________________________________________________\n"
     ]
    }
   ],
   "source": [
    "model.compile(loss = 'mean_squared_error', optimizer = 'adam', metrics = 'accuracy')\n",
    "model.summary()"
   ]
  },
  {
   "cell_type": "code",
   "execution_count": 18,
   "id": "sophisticated-start",
   "metadata": {},
   "outputs": [
    {
     "name": "stdout",
     "output_type": "stream",
     "text": [
      "Epoch 1/10\n",
      "26/26 [==============================] - 26s 871ms/step - loss: 0.1568 - accuracy: 0.7963 - val_loss: 0.1112 - val_accuracy: 0.8510\n",
      "Epoch 2/10\n",
      "26/26 [==============================] - 22s 830ms/step - loss: 0.1015 - accuracy: 0.8636 - val_loss: 0.0942 - val_accuracy: 0.8715\n",
      "Epoch 3/10\n",
      "26/26 [==============================] - 19s 721ms/step - loss: 0.0831 - accuracy: 0.8912 - val_loss: 0.0878 - val_accuracy: 0.8814\n",
      "Epoch 4/10\n",
      "26/26 [==============================] - 19s 715ms/step - loss: 0.0695 - accuracy: 0.9103 - val_loss: 0.0838 - val_accuracy: 0.8886\n",
      "Epoch 5/10\n",
      "26/26 [==============================] - 19s 735ms/step - loss: 0.0533 - accuracy: 0.9344 - val_loss: 0.0809 - val_accuracy: 0.8948\n",
      "Epoch 6/10\n",
      "26/26 [==============================] - 21s 794ms/step - loss: 0.0375 - accuracy: 0.9547 - val_loss: 0.0849 - val_accuracy: 0.8941\n",
      "Epoch 7/10\n",
      "26/26 [==============================] - 21s 800ms/step - loss: 0.0274 - accuracy: 0.9677 - val_loss: 0.0891 - val_accuracy: 0.8920\n",
      "Epoch 8/10\n",
      "26/26 [==============================] - 21s 800ms/step - loss: 0.0212 - accuracy: 0.9755 - val_loss: 0.0957 - val_accuracy: 0.8872\n",
      "Epoch 9/10\n",
      "26/26 [==============================] - 23s 887ms/step - loss: 0.0171 - accuracy: 0.9801 - val_loss: 0.0950 - val_accuracy: 0.8880\n",
      "Epoch 10/10\n",
      "26/26 [==============================] - 20s 787ms/step - loss: 0.0145 - accuracy: 0.9831 - val_loss: 0.0996 - val_accuracy: 0.8846\n"
     ]
    }
   ],
   "source": [
    "x_train, x_test, y_train, y_test = train_test_split(X_data, Y, test_size = 0.2, random_state = 0)\n",
    "\n",
    "es = EarlyStopping(patience=3, \n",
    "                   monitor='loss', \n",
    "                   restore_best_weights=True, \n",
    "                   mode='min', \n",
    "                   verbose=1)\n",
    "\n",
    "# train the model \n",
    "hist = model.fit(x_train, y_train, validation_data = (x_test, y_test), epochs = 10,\n",
    "                 callbacks=es, batch_size = 1024, shuffle=True)"
   ]
  },
  {
   "cell_type": "code",
   "execution_count": 19,
   "id": "limiting-egyptian",
   "metadata": {},
   "outputs": [
    {
     "data": {
      "image/png": "[encoded data removed]",
      "text/plain": [
       "<Figure size 432x288 with 1 Axes>"
      ]
     },
     "metadata": {},
     "output_type": "display_data"
    }
   ],
   "source": [
    "plt.style.use('fivethirtyeight')\n",
    "\n",
    "# visualize the models accuracy\n",
    "plt.plot(hist.history['accuracy'])\n",
    "plt.plot(hist.history['val_accuracy'])\n",
    "plt.ylabel('accuracy')\n",
    "plt.xlabel('epoch')\n",
    "plt.legend(['train', 'val'], loc = 'upper left')\n",
    "plt.show()  "
   ]
  },
  {
   "cell_type": "code",
   "execution_count": 20,
   "id": "egyptian-elevation",
   "metadata": {},
   "outputs": [],
   "source": [
    "y_predict_test = model.predict(x_test)\n",
    "y_predict_test = np.argmax(y_predict_test, axis=1)\n",
    "y_test = np.argmax(y_test.to_numpy(), axis = 1)"
   ]
  },
  {
   "cell_type": "code",
   "execution_count": 21,
   "id": "verbal-amber",
   "metadata": {},
   "outputs": [
    {
     "name": "stdout",
     "output_type": "stream",
     "text": [
      "0.8887238151834794\n",
      "0.8845916795069337\n"
     ]
    }
   ],
   "source": [
    "print(f1_score(y_test, y_predict_test))\n",
    "print(accuracy_score(y_test, y_predict_test))"
   ]
  },
  {
   "cell_type": "code",
   "execution_count": 22,
   "id": "packed-symphony",
   "metadata": {},
   "outputs": [],
   "source": [
    "model.save('ModelOne.model', save_format = 'h5')"
   ]
  },
  {
   "cell_type": "code",
   "execution_count": null,
   "id": "parliamentary-uganda",
   "metadata": {},
   "outputs": [],
   "source": []
  }
 ],
 "metadata": {
  "kernelspec": {
   "display_name": "Python 3",
   "language": "python",
   "name": "python3"
  },
  "language_info": {
   "codemirror_mode": {
    "name": "ipython",
    "version": 3
   },
   "file_extension": ".py",
   "mimetype": "text/x-python",
   "name": "python",
   "nbconvert_exporter": "python",
   "pygments_lexer": "ipython3",
   "version": "3.8.8"
  }
 },
 "nbformat": 4,
 "nbformat_minor": 5
}
