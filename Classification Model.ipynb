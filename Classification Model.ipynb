{
 "cells": [
  {
   "cell_type": "code",
   "execution_count": 1,
   "id": "affected-nicaragua",
   "metadata": {},
   "outputs": [],
   "source": [
    "import sys\n",
    "import numpy as np\n",
    "import pandas as pd \n",
    "import matplotlib.pyplot as plt\n",
    "import seaborn as sns\n",
    "import re\n",
    "\n",
    "import gensim\n",
    "from gensim.parsing.preprocessing import remove_stopwords\n",
    "from gensim.parsing.porter import PorterStemmer\n",
    "\n",
    "from sklearn.model_selection import train_test_split\n",
    "from sklearn.metrics import f1_score, accuracy_score\n",
    "from sklearn.utils import shuffle\n",
    "\n",
    "import tensorflow as tf\n",
    "from keras.preprocessing.text import Tokenizer\n",
    "from tensorflow.keras.layers import Flatten, Dropout, Dense, LSTM, Embedding\n",
    "from tensorflow.keras.models import Sequential\n",
    "from tensorflow.keras.preprocessing.text import one_hot\n",
    "from tensorflow.keras.preprocessing.sequence import pad_sequences\n",
    "from keras.callbacks import EarlyStopping\n",
    "\n",
    "from sklearn.metrics import confusion_matrix, accuracy_score"
   ]
  },
  {
   "cell_type": "code",
   "execution_count": 2,
   "id": "caring-woman",
   "metadata": {},
   "outputs": [],
   "source": [
    "df = pd.read_csv('train.csv')\n",
    "df2 = pd.read_csv('FinalBalancedDataset.csv')"
   ]
  },
  {
   "cell_type": "code",
   "execution_count": 3,
   "id": "comic-seller",
   "metadata": {},
   "outputs": [],
   "source": [
    "df2 = df2[['tweet', 'Toxicity']].rename(columns={'Toxicity': 'toxic'})"
   ]
  },
  {
   "cell_type": "code",
   "execution_count": 4,
   "id": "loaded-jesus",
   "metadata": {},
   "outputs": [],
   "source": [
    "df['toxic'] = df.copy()[['toxic']]\n",
    "df = df[['comment_text', 'toxic']].rename(columns={'comment_text': 'tweet'})"
   ]
  },
  {
   "cell_type": "code",
   "execution_count": 5,
   "id": "acquired-reduction",
   "metadata": {},
   "outputs": [],
   "source": [
    "min_len = (df['toxic'] == 1).sum()\n",
    "df_undersample = df[df['toxic'] == 0].sample(n=min_len, random_state=201)\n",
    "df = pd.concat([df_undersample, df[df['toxic'] == 1]])\n",
    "df = shuffle(df)"
   ]
  },
  {
   "cell_type": "code",
   "execution_count": 6,
   "id": "monetary-situation",
   "metadata": {},
   "outputs": [],
   "source": [
    "df_all = pd.concat([df, df2], ignore_index=True)"
   ]
  },
  {
   "cell_type": "code",
   "execution_count": 7,
   "id": "piano-canyon",
   "metadata": {},
   "outputs": [],
   "source": [
    "Y = df_all.toxic\n",
    "X = df_all.drop('toxic', axis = 1)"
   ]
  },
  {
   "cell_type": "code",
   "execution_count": 8,
   "id": "vital-harmony",
   "metadata": {},
   "outputs": [
    {
     "data": {
      "text/html": [
       "<div>\n",
       "<style scoped>\n",
       "    .dataframe tbody tr th:only-of-type {\n",
       "        vertical-align: middle;\n",
       "    }\n",
       "\n",
       "    .dataframe tbody tr th {\n",
       "        vertical-align: top;\n",
       "    }\n",
       "\n",
       "    .dataframe thead th {\n",
       "        text-align: right;\n",
       "    }\n",
       "</style>\n",
       "<table border=\"1\" class=\"dataframe\">\n",
       "  <thead>\n",
       "    <tr style=\"text-align: right;\">\n",
       "      <th></th>\n",
       "      <th>tweet</th>\n",
       "    </tr>\n",
       "  </thead>\n",
       "  <tbody>\n",
       "    <tr>\n",
       "      <th>0</th>\n",
       "      <td>I don't think he's a troll. I think he's an Is...</td>\n",
       "    </tr>\n",
       "    <tr>\n",
       "      <th>1</th>\n",
       "      <td>\"::::::could you point to me where in your est...</td>\n",
       "    </tr>\n",
       "    <tr>\n",
       "      <th>2</th>\n",
       "      <td>\"Contoversies page==\\nWHAT HAPPENED TO THE CON...</td>\n",
       "    </tr>\n",
       "    <tr>\n",
       "      <th>3</th>\n",
       "      <td>I got refresh 4 times faggot.</td>\n",
       "    </tr>\n",
       "    <tr>\n",
       "      <th>4</th>\n",
       "      <td>\"\\n\\n What the hell do u mean \\n\\ncough* *coug...</td>\n",
       "    </tr>\n",
       "  </tbody>\n",
       "</table>\n",
       "</div>"
      ],
      "text/plain": [
       "                                               tweet\n",
       "0  I don't think he's a troll. I think he's an Is...\n",
       "1  \"::::::could you point to me where in your est...\n",
       "2  \"Contoversies page==\\nWHAT HAPPENED TO THE CON...\n",
       "3                      I got refresh 4 times faggot.\n",
       "4  \"\\n\\n What the hell do u mean \\n\\ncough* *coug..."
      ]
     },
     "execution_count": 8,
     "metadata": {},
     "output_type": "execute_result"
    }
   ],
   "source": [
    "tweets = X.copy()\n",
    "tweets.reset_index(inplace = True, drop = True)\n",
    "tweets.head()"
   ]
  },
  {
   "cell_type": "code",
   "execution_count": 9,
   "id": "charming-produce",
   "metadata": {},
   "outputs": [],
   "source": [
    "class Preprocessor():\n",
    "    def __init__(self):\n",
    "        pass\n",
    "    \n",
    "    def __stem_word(self, text):\n",
    "        por = PorterStemmer()\n",
    "        return por.stem_sentence(text)\n",
    "    \n",
    "    def __clear_stop_words(self, text):\n",
    "        return remove_stopwords(text) \n",
    "    \n",
    "    def __re_process(self, text):\n",
    "        text = re.sub(r'@[A-Za-z0-9]+', '', text) #Removing tags\n",
    "        text = re.sub(r'#', '', text) # Removing the \"#\" symbol\n",
    "        text = re.sub(r'RT', '', text) # Removing RT\n",
    "        text = re.sub(r'https?:\\/\\/\\S+', '', text) #Remove links\n",
    "        text = re.sub(r'[^A-Za-z\\s]+', '', text) # Remove not letters\n",
    "        text =  \" \".join(text.split())\n",
    "        return text.lower()\n",
    "    \n",
    "    def cleaning(self, x_data):\n",
    "        clear_x_data = x_data.apply(self.__re_process)\n",
    "        clear_x_data = clear_x_data.apply(self.__clear_stop_words)\n",
    "        clear_x_data = clear_x_data.apply(self.__stem_word)\n",
    "        return clear_x_data\n"
   ]
  },
  {
   "cell_type": "code",
   "execution_count": 10,
   "id": "backed-pointer",
   "metadata": {},
   "outputs": [],
   "source": [
    "process = Preprocessor()\n",
    "clear_data = process.cleaning(tweets['tweet'])\n",
    "tweets['tweet'] = clear_data"
   ]
  },
  {
   "cell_type": "code",
   "execution_count": 11,
   "id": "narrative-veteran",
   "metadata": {},
   "outputs": [
    {
     "data": {
      "text/html": [
       "<div>\n",
       "<style scoped>\n",
       "    .dataframe tbody tr th:only-of-type {\n",
       "        vertical-align: middle;\n",
       "    }\n",
       "\n",
       "    .dataframe tbody tr th {\n",
       "        vertical-align: top;\n",
       "    }\n",
       "\n",
       "    .dataframe thead th {\n",
       "        text-align: right;\n",
       "    }\n",
       "</style>\n",
       "<table border=\"1\" class=\"dataframe\">\n",
       "  <thead>\n",
       "    <tr style=\"text-align: right;\">\n",
       "      <th></th>\n",
       "      <th>tweet</th>\n",
       "    </tr>\n",
       "  </thead>\n",
       "  <tbody>\n",
       "    <tr>\n",
       "      <th>0</th>\n",
       "      <td>dont think he troll think he islamist photo pl...</td>\n",
       "    </tr>\n",
       "    <tr>\n",
       "      <th>1</th>\n",
       "      <td>point estim damag articl revert edit damag art...</td>\n",
       "    </tr>\n",
       "    <tr>\n",
       "      <th>2</th>\n",
       "      <td>contoversi page happen controversi page fella ...</td>\n",
       "    </tr>\n",
       "    <tr>\n",
       "      <th>3</th>\n",
       "      <td>got refresh time faggot</td>\n",
       "    </tr>\n",
       "    <tr>\n",
       "      <th>4</th>\n",
       "      <td>hell u mean cough cough excus hell accus disru...</td>\n",
       "    </tr>\n",
       "  </tbody>\n",
       "</table>\n",
       "</div>"
      ],
      "text/plain": [
       "                                               tweet\n",
       "0  dont think he troll think he islamist photo pl...\n",
       "1  point estim damag articl revert edit damag art...\n",
       "2  contoversi page happen controversi page fella ...\n",
       "3                            got refresh time faggot\n",
       "4  hell u mean cough cough excus hell accus disru..."
      ]
     },
     "execution_count": 11,
     "metadata": {},
     "output_type": "execute_result"
    }
   ],
   "source": [
    "tweets.head()"
   ]
  },
  {
   "cell_type": "markdown",
   "id": "published-browse",
   "metadata": {},
   "source": [
    "## Embedding"
   ]
  },
  {
   "cell_type": "code",
   "execution_count": 12,
   "id": "offshore-motor",
   "metadata": {},
   "outputs": [],
   "source": [
    "DIM = 200\n",
    "\n",
    "split_words = [d.split() for d in tweets['tweet']]\n",
    "w2v_model = gensim.models.Word2Vec(sentences = split_words, vector_size = DIM, window = 10, min_count = 1)"
   ]
  },
  {
   "cell_type": "code",
   "execution_count": 13,
   "id": "careful-moldova",
   "metadata": {},
   "outputs": [
    {
     "data": {
      "text/plain": [
       "83138"
      ]
     },
     "execution_count": 13,
     "metadata": {},
     "output_type": "execute_result"
    }
   ],
   "source": [
    "len(w2v_model.wv.key_to_index.keys()) "
   ]
  },
  {
   "cell_type": "code",
   "execution_count": 14,
   "id": "substantial-hospital",
   "metadata": {},
   "outputs": [],
   "source": [
    "tokenizer = Tokenizer()\n",
    "tokenizer.fit_on_texts(split_words) \n",
    "X_data = tokenizer.texts_to_sequences(split_words)\n",
    "X_data = pad_sequences(X_data, padding = 'pre', maxlen = 20)"
   ]
  },
  {
   "cell_type": "code",
   "execution_count": 15,
   "id": "fifteen-membrane",
   "metadata": {},
   "outputs": [],
   "source": [
    "vocab_size = len(tokenizer.word_index) + 1 \n",
    "vocab = tokenizer.word_index"
   ]
  },
  {
   "cell_type": "code",
   "execution_count": 16,
   "id": "supreme-mistress",
   "metadata": {},
   "outputs": [],
   "source": [
    "def get_weights_matrix(model) :\n",
    "    weights_matrix = np.zeros((vocab_size, DIM))\n",
    "    \n",
    "    for word, i in vocab.items() :\n",
    "        weights_matrix[i] = model.wv[word]\n",
    "        \n",
    "    return weights_matrix\n",
    "\n",
    "\n",
    "embedding_vectors = get_weights_matrix(w2v_model) "
   ]
  },
  {
   "cell_type": "code",
   "execution_count": 17,
   "id": "united-special",
   "metadata": {},
   "outputs": [],
   "source": [
    "model = Sequential()\n",
    "\n",
    "model.add(Embedding(vocab_size, output_dim = DIM, weights = [embedding_vectors], input_length = 20)) \n",
    "model.add(Dropout(0.8))\n",
    "\n",
    "model.add(LSTM(128))\n",
    "model.add(Dropout(0.8))\n",
    "\n",
    "model.add(Dense(64, activation='relu'))\n",
    "model.add(Dropout(0.7))\n",
    "\n",
    "model.add(Dense(64, activation='relu'))\n",
    "model.add(Dropout(0.7))\n",
    "\n",
    "model.add(Dense(1, activation = 'sigmoid'))"
   ]
  },
  {
   "cell_type": "code",
   "execution_count": 18,
   "id": "floating-portsmouth",
   "metadata": {},
   "outputs": [
    {
     "name": "stdout",
     "output_type": "stream",
     "text": [
      "Model: \"sequential\"\n",
      "_________________________________________________________________\n",
      " Layer (type)                Output Shape              Param #   \n",
      "=================================================================\n",
      " embedding (Embedding)       (None, 20, 200)           16627800  \n",
      "                                                                 \n",
      " dropout (Dropout)           (None, 20, 200)           0         \n",
      "                                                                 \n",
      " lstm (LSTM)                 (None, 128)               168448    \n",
      "                                                                 \n",
      " dropout_1 (Dropout)         (None, 128)               0         \n",
      "                                                                 \n",
      " dense (Dense)               (None, 64)                8256      \n",
      "                                                                 \n",
      " dropout_2 (Dropout)         (None, 64)                0         \n",
      "                                                                 \n",
      " dense_1 (Dense)             (None, 64)                4160      \n",
      "                                                                 \n",
      " dropout_3 (Dropout)         (None, 64)                0         \n",
      "                                                                 \n",
      " dense_2 (Dense)             (None, 1)                 65        \n",
      "                                                                 \n",
      "=================================================================\n",
      "Total params: 16,808,729\n",
      "Trainable params: 16,808,729\n",
      "Non-trainable params: 0\n",
      "_________________________________________________________________\n"
     ]
    }
   ],
   "source": [
    "model.compile(loss = 'binary_crossentropy', optimizer = 'adam', metrics = 'accuracy')\n",
    "model.summary()"
   ]
  },
  {
   "cell_type": "code",
   "execution_count": 19,
   "id": "sustainable-tactics",
   "metadata": {},
   "outputs": [
    {
     "name": "stdout",
     "output_type": "stream",
     "text": [
      "Epoch 1/5\n",
      "273/273 [==============================] - 94s 332ms/step - loss: 0.5953 - accuracy: 0.6736 - val_loss: 0.3175 - val_accuracy: 0.8637\n",
      "Epoch 2/5\n",
      "273/273 [==============================] - 89s 327ms/step - loss: 0.3987 - accuracy: 0.8393 - val_loss: 0.2637 - val_accuracy: 0.8928\n",
      "Epoch 3/5\n",
      "273/273 [==============================] - 91s 332ms/step - loss: 0.3365 - accuracy: 0.8687 - val_loss: 0.2440 - val_accuracy: 0.8976\n",
      "Epoch 4/5\n",
      "273/273 [==============================] - 90s 330ms/step - loss: 0.2926 - accuracy: 0.8894 - val_loss: 0.2257 - val_accuracy: 0.9099\n",
      "Epoch 5/5\n",
      "273/273 [==============================] - 90s 329ms/step - loss: 0.2510 - accuracy: 0.9072 - val_loss: 0.2195 - val_accuracy: 0.9148\n"
     ]
    }
   ],
   "source": [
    "x_train, x_test, y_train, y_test = train_test_split(X_data, Y, test_size = 0.2)\n",
    "\n",
    "es = EarlyStopping(patience=3, \n",
    "                   monitor='loss')\n",
    "\n",
    "# train the model \n",
    "hist = model.fit(x_train, y_train, validation_data = (x_test, y_test), epochs = 5,\n",
    "                 callbacks=es, batch_size = 256, shuffle=True, verbose = 1)"
   ]
  },
  {
   "cell_type": "code",
   "execution_count": 20,
   "id": "fifth-lobby",
   "metadata": {},
   "outputs": [
    {
     "data": {
      "image/png": "[encoded data removed]",
      "text/plain": [
       "<Figure size 432x288 with 1 Axes>"
      ]
     },
     "metadata": {},
     "output_type": "display_data"
    }
   ],
   "source": [
    "plt.style.use('fivethirtyeight')\n",
    "\n",
    "# visualize the models accuracy\n",
    "plt.plot(hist.history['accuracy'])\n",
    "plt.plot(hist.history['val_accuracy'])\n",
    "plt.ylabel('accuracy')\n",
    "plt.xlabel('epoch')\n",
    "plt.legend(['train', 'val'], loc = 'upper left')\n",
    "plt.show()  "
   ]
  },
  {
   "cell_type": "code",
   "execution_count": 21,
   "id": "british-engagement",
   "metadata": {},
   "outputs": [],
   "source": [
    "y_predict_test = model.predict(x_test)\n",
    "y_predict_test = (y_predict_test > 0.5).astype(int)\n",
    "y_test = y_test.to_numpy()"
   ]
  },
  {
   "cell_type": "code",
   "execution_count": 22,
   "id": "listed-warehouse",
   "metadata": {},
   "outputs": [
    {
     "name": "stdout",
     "output_type": "stream",
     "text": [
      "0.9028847408954445\n",
      "0.9148107860537013\n"
     ]
    }
   ],
   "source": [
    "print(f1_score(y_test, y_predict_test))\n",
    "print(accuracy_score(y_test, y_predict_test))"
   ]
  },
  {
   "cell_type": "code",
   "execution_count": 23,
   "id": "official-semiconductor",
   "metadata": {},
   "outputs": [],
   "source": [
    "model.save('FinalModel.model', save_format = 'h5')"
   ]
  },
  {
   "cell_type": "code",
   "execution_count": null,
   "id": "differential-switzerland",
   "metadata": {},
   "outputs": [],
   "source": []
  }
 ],
 "metadata": {
  "kernelspec": {
   "display_name": "Python 3",
   "language": "python",
   "name": "python3"
  },
  "language_info": {
   "codemirror_mode": {
    "name": "ipython",
    "version": 3
   },
   "file_extension": ".py",
   "mimetype": "text/x-python",
   "name": "python",
   "nbconvert_exporter": "python",
   "pygments_lexer": "ipython3",
   "version": "3.8.8"
  }
 },
 "nbformat": 4,
 "nbformat_minor": 5
}
